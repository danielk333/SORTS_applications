{
 "cells": [
  {
   "cell_type": "markdown",
   "metadata": {},
   "source": [
    "## Example EISCAT 3D visualizer\n",
    "\n",
    "This is an simplified example that only uses SORTS"
   ]
  },
  {
   "cell_type": "code",
   "execution_count": 1,
   "metadata": {},
   "outputs": [
    {
     "name": "stdout",
     "output_type": "stream",
     "text": [
      "Using SORTS: 4.0.0\n"
     ]
    }
   ],
   "source": [
    "#Setup widgets\n",
    "from __future__ import print_function\n",
    "import ipywidgets as widgets\n",
    "from IPython.display import display\n",
    "\n",
    "#setup basic plotting\n",
    "%matplotlib widget\n",
    "import matplotlib.pyplot as plt\n",
    "from mpl_toolkits.mplot3d import axes3d\n",
    "\n",
    "import numpy as np\n",
    "\n",
    "#Load SORTS\n",
    "import sorts\n",
    "\n",
    "print(f'Using SORTS: {sorts.__version__}')"
   ]
  },
  {
   "cell_type": "code",
   "execution_count": 2,
   "metadata": {},
   "outputs": [],
   "source": [
    "END_T = 6*60 #minutes\n",
    "\n",
    "lims = {\n",
    "    'L': [50, 200, 0.1],\n",
    "    'N': [4, 100, 1],\n",
    "    'dwell': [0.05, 2.0, 0.05],\n",
    "    'h': [80, 400, 10],\n",
    "    'h_min': [60, 400, 10],\n",
    "    'beams': [1, 20, 1],\n",
    "    't': [0, END_T-10.0, 0.1], #minutes\n",
    "    't_span': [0.05, 10.0, 0.05], #sec\n",
    "    'view_range': [300, 3000, 10],\n",
    "}"
   ]
  },
  {
   "cell_type": "code",
   "execution_count": 3,
   "metadata": {},
   "outputs": [],
   "source": [
    "class E3DScheduler(sorts.scheduler.PointingSchedule, sorts.scheduler.ObservedParameters):\n",
    "\n",
    "    def __init__(self, radar, END_T, profiler=None, logger=None, **kwargs):\n",
    "        super().__init__(\n",
    "            radar=radar, \n",
    "            logger=logger, \n",
    "            profiler=profiler,\n",
    "        )\n",
    "        self.END_T = END_T\n",
    "\n",
    "        self.controllers = []\n",
    "\n",
    "    def update(self, L, N, dwell, h, h_min, beams):\n",
    "\n",
    "        scanner_plane = sorts.controller.Scanner(\n",
    "            self.radar, \n",
    "            sorts.scans.Plane(\n",
    "                x_offset=0, \n",
    "                altitude=h, \n",
    "                x_size=L, \n",
    "                y_size=L, \n",
    "                x_num=N, \n",
    "                y_num=N, \n",
    "                dwell=dwell,\n",
    "            ), \n",
    "            t=np.arange(0, self.END_T*0.5, dwell), \n",
    "            r=np.linspace(h_min, h, num=beams), \n",
    "            as_altitude=True,\n",
    "        )\n",
    "        \n",
    "        scanner_fan = sorts.controller.Scanner(\n",
    "            self.radar, \n",
    "            sorts.scans.Fence(\n",
    "                azimuth=90, \n",
    "                num=40, \n",
    "                dwell=0.1, \n",
    "                min_elevation=30,\n",
    "            ), \n",
    "            t=np.arange(self.END_T*0.5 + dwell, self.END_T, dwell), \n",
    "            r=np.linspace(h_min, h, num=beams), \n",
    "            as_altitude=True,\n",
    "        )\n",
    "\n",
    "        self.controllers = [scanner_plane, scanner_fan]\n",
    "\n",
    "    def get_controllers(self):\n",
    "        return self.controllers\n",
    "\n",
    "\n",
    "\n",
    "def calc_observation(e3d_sched, ax, t, t_span, view_range, plot_rx, L, N, dwell, h, h_min, beams):\n",
    "    e3d_sched.update(L*1e3, N, dwell, h*1e3, h_min*1e3, beams)\n",
    "    ax.clear()\n",
    "    sorts.plotting.schedule_pointing(\n",
    "        e3d_sched, \n",
    "        t0=t, \n",
    "        t1=t+t_span, \n",
    "        ax=ax, \n",
    "        plot_rx=plot_rx, \n",
    "        view_range=view_range*1e3,\n",
    "    )\n",
    "    return ax"
   ]
  },
  {
   "cell_type": "code",
   "execution_count": 4,
   "metadata": {},
   "outputs": [],
   "source": [
    "eiscat3d = sorts.radars.eiscat3d\n",
    "e3d_sched = E3DScheduler(eiscat3d, END_T)"
   ]
  },
  {
   "cell_type": "code",
   "execution_count": null,
   "metadata": {},
   "outputs": [],
   "source": []
  },
  {
   "cell_type": "code",
   "execution_count": 5,
   "metadata": {},
   "outputs": [
    {
     "data": {
      "application/vnd.jupyter.widget-view+json": {
       "model_id": "f09f7ad88bc248c5be1ca097db3cf7cb",
       "version_major": 2,
       "version_minor": 0
      },
      "text/plain": [
       "AppLayout(children=(GridspecLayout(children=(FloatSlider(value=0.0, description='Time [s]', layout=Layout(grid…"
      ]
     },
     "metadata": {},
     "output_type": "display_data"
    },
    {
     "data": {
      "application/vnd.jupyter.widget-view+json": {
       "model_id": "27406dd446f64e0f8e208b36e01faf56",
       "version_major": 2,
       "version_minor": 0
      },
      "text/plain": [
       "Output()"
      ]
     },
     "metadata": {},
     "output_type": "display_data"
    }
   ],
   "source": [
    "#Setup all the matplotlib stuff\n",
    "output = widgets.Output()\n",
    "with output:\n",
    "    fig = plt.figure(figsize=(8,6))\n",
    "    ax = fig.add_subplot(111, projection='3d')\n",
    "\n",
    "def fun(**kw):\n",
    "    calc_observation(e3d_sched, ax, **kw)\n",
    "\n",
    "grid = widgets.GridspecLayout(8,2)\n",
    "\n",
    "app = widgets.AppLayout(\n",
    "    header=None,\n",
    "    left_sidebar=None,\n",
    "    center=output,\n",
    "    right_sidebar=grid,\n",
    "    footer=None,\n",
    "    height=\"600px\", \n",
    "    width=\"100%\",\n",
    ")\n",
    "\n",
    "###\n",
    "# CREATE ALL THE SLIDERS AND UI.... AAAAAARGH!\n",
    "###\n",
    "t = widgets.FloatSlider(min=lims['t'][0], max=lims['t'][1], step=lims['t'][2], description='Time [s]'); grid[1,-2] = t\n",
    "t_cnt = widgets.FloatText(min=lims['t'][0], max=lims['t'][1], step=lims['t'][2], description='Time [s]'); grid[0,-1] = t_cnt\n",
    "t_span = widgets.FloatSlider(min=lims['t_span'][0], max=lims['t_span'][1], step=lims['t_span'][2], description='Time span [s]'); grid[2,-2] = t_span\n",
    "view_range = widgets.FloatSlider(min=lims['view_range'][0], max=lims['view_range'][1], step=lims['view_range'][2], description='Zoom [km]'); grid[1,-1] = view_range\n",
    "L = widgets.FloatSlider(min=lims['L'][0], max=lims['L'][1], step=lims['L'][2], description='Side-length [km]'); grid[3,-2] = L\n",
    "N = widgets.IntSlider(min=lims['N'][0], max=lims['N'][1], step=lims['N'][2], description='Samples/side [1]'); grid[3,-1] = N\n",
    "dwell = widgets.FloatSlider(min=lims['dwell'][0], max=lims['dwell'][1], step=lims['dwell'][2], description='Dwell [s]'); grid[4,-2] = dwell\n",
    "h = widgets.FloatSlider(min=lims['h'][0], max=lims['h'][1], step=lims['h'][2], description='Altitude [km]'); grid[4,-1] = h\n",
    "h_min = widgets.FloatSlider(min=lims['h_min'][0], max=lims['h_min'][1], step=lims['h_min'][2], description='Min altitude [km]'); grid[5,-2] = h_min\n",
    "beams = widgets.IntSlider(min=lims['beams'][0], max=lims['beams'][1], step=lims['beams'][2], description='Rx-beams [1]'); grid[5,-1] = beams\n",
    "plot_rx = widgets.ToggleButton(value=True, description='Plot rx beams'); grid[6,-2] = plot_rx\n",
    "\n",
    "#Relations\n",
    "def h_on_value_change(change):\n",
    "    new_h = change['new']\n",
    "    h_min.max = new_h\n",
    "h.observe(h_on_value_change, names='value')\n",
    "\n",
    "tlink = widgets.jslink((t, 'value'), (t_cnt, 'value'))\n",
    "\n",
    "#Cache interactive to start with\n",
    "out = widgets.interactive_output(\n",
    "    fun, \n",
    "    dict(\n",
    "        t = t,\n",
    "        t_span = t_span,\n",
    "        L = L,\n",
    "        N = N,\n",
    "        dwell = dwell,\n",
    "        h = h,\n",
    "        h_min = h_min,\n",
    "        beams = beams,\n",
    "        plot_rx = plot_rx,\n",
    "        view_range = view_range,\n",
    "    ),\n",
    ")\n",
    "\n",
    "#Display control\n",
    "display(app, out)"
   ]
  }
 ],
 "metadata": {
  "kernelspec": {
   "display_name": "Python 3",
   "language": "python",
   "name": "python3"
  },
  "language_info": {
   "codemirror_mode": {
    "name": "ipython",
    "version": 3
   },
   "file_extension": ".py",
   "mimetype": "text/x-python",
   "name": "python",
   "nbconvert_exporter": "python",
   "pygments_lexer": "ipython3",
   "version": "3.7.0"
  }
 },
 "nbformat": 4,
 "nbformat_minor": 4
}
