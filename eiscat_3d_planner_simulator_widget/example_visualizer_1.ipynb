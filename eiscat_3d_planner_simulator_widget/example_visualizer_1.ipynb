{
 "cells": [
  {
   "cell_type": "markdown",
   "metadata": {},
   "source": [
    "## Example SORTS visualizer\n",
    "\n",
    "### Based on the \"Live interaction demo of Space Object Radar Tracking Simulator (SORTS)\" presentation by: D. Kastinen, J. Vierinen, T. Grydeland, J. Kero. Code by: Daniel Kastinen\n"
   ]
  },
  {
   "cell_type": "code",
   "execution_count": 1,
   "metadata": {},
   "outputs": [
    {
     "name": "stdout",
     "output_type": "stream",
     "text": [
      "Using SORTS: 4.0.0\n"
     ]
    }
   ],
   "source": [
    "#Setup widgets\n",
    "from __future__ import print_function\n",
    "import ipywidgets as widgets\n",
    "from IPython.display import display\n",
    "\n",
    "#setup basic plotting\n",
    "%matplotlib widget\n",
    "import matplotlib.pyplot as plt\n",
    "from mpl_toolkits.mplot3d import axes3d\n",
    "\n",
    "import numpy as np\n",
    "\n",
    "#Load SORTS\n",
    "import sorts\n",
    "\n",
    "print(f'Using SORTS: {sorts.__version__}')"
   ]
  },
  {
   "cell_type": "markdown",
   "metadata": {},
   "source": [
    "### SORTS\n",
    "\n",
    "__A toolbox for simulating radars, their schedule, objects in space and resulting measurements from those radars__\n",
    "\n",
    "* The idea behind this presentation: show how scheduling can be simulated with SORTS\n",
    "* Took me about <span style=\"color:#ff2222\">1h</span> to code the simulation using SORTS\n",
    "\n",
    "[SORTS on github](https://github.com/danielk333/SORTS)\n",
    "* To get the code / contribute / suggest\n",
    "\n",
    "[SORTS examples (and docs)](https://danielk333.github.io/SORTS/docs/auto_gallery/index.html)\n",
    "* For your inspiration\n",
    "\n",
    "[SORTS in peer-review!](https://angeo.copernicus.org/articles/38/861/2020/)\n",
    "* Cool application!\n",
    "\n",
    "[SORTS and ESA projects](https://conference.sdo.esoc.esa.int/proceedings/neosst1/paper/465)\n",
    "* 10,000 - 20,000 debris passes per hour over E3D\n"
   ]
  },
  {
   "cell_type": "code",
   "execution_count": 2,
   "metadata": {},
   "outputs": [],
   "source": [
    "#Set the path to our population, alternativly define a custom one\n",
    "path = '/home/danielk/IRF/IRF_GITLAB/SORTSpp/master/celn_20090501_00.sim'\n",
    "\n",
    "from scheduler_simulation import get_master_population\n",
    "\n",
    "pop = get_master_population(path)"
   ]
  },
  {
   "cell_type": "code",
   "execution_count": 3,
   "metadata": {},
   "outputs": [
    {
     "name": "stdout",
     "output_type": "stream",
     "text": [
      "Help on method print in module sorts.population.population:\n",
      "\n",
      "print(n=None, fields=None) method of sorts.population.population.Population instance\n",
      "\n"
     ]
    }
   ],
   "source": [
    "#The population class has a print function, lets look at the docs\n",
    "help(pop.print)"
   ]
  },
  {
   "cell_type": "code",
   "execution_count": 4,
   "metadata": {},
   "outputs": [
    {
     "name": "stdout",
     "output_type": "stream",
     "text": [
      "  oid            a       e      i      d\n",
      "-----  -----------  ------  -----  -----\n",
      "    0  4.05806e+07  0.0043   3.68  33.57\n",
      "    1  3.95586e+07  0.0579   9.28  31.06\n",
      "    2  7.1087e+06   0.0043  70.94  27.64\n",
      "    3  2.79227e+07  0.4739  70.8   27.52\n",
      "    4  7.0614e+06   0.0031  70.94  27.51\n",
      "    5  7.3753e+06   0.0225  98.73  27.45\n",
      "    6  4.3401e+07   0.0215  14.51  26.42\n",
      "    7  4.22708e+07  0.0282  13.6   24.43\n",
      "    8  1.33294e+07  0.4859  51.58  24.4\n",
      "    9  1.58685e+07  0.5696  64.88  23.84\n"
     ]
    }
   ],
   "source": [
    "#look at a few objects from the population\n",
    "print(pop.print(list(range(10)), fields=['oid', 'a', 'e', 'i', 'd']))"
   ]
  },
  {
   "cell_type": "code",
   "execution_count": 5,
   "metadata": {},
   "outputs": [],
   "source": [
    "#Set some simulation parameters\n",
    "dt = 20.0 #time step [seconds] for orbit sampling\n",
    "END_T = 5*60.0 #end time in minutes"
   ]
  },
  {
   "cell_type": "code",
   "execution_count": 6,
   "metadata": {},
   "outputs": [],
   "source": [
    "#Import our simulation into the notebook\n",
    "from scheduler_simulation import calc_observation, get_scheduler, recalc_track_data, get_widget_limits\n",
    "eiscat3d = sorts.radars.eiscat3d\n",
    "\n",
    "e3d_sched = get_scheduler(eiscat3d, pop, dt, END_T)"
   ]
  },
  {
   "cell_type": "code",
   "execution_count": 24,
   "metadata": {},
   "outputs": [
    {
     "data": {
      "application/vnd.jupyter.widget-view+json": {
       "model_id": "71dee3b992f9490199b1326292823b30",
       "version_major": 2,
       "version_minor": 0
      },
      "text/plain": [
       "AppLayout(children=(GridspecLayout(children=(FloatSlider(value=0.0, description='Time [s]', layout=Layout(grid…"
      ]
     },
     "metadata": {},
     "output_type": "display_data"
    },
    {
     "data": {
      "application/vnd.jupyter.widget-view+json": {
       "model_id": "33f0e2c1bc7c4a9c8e2bbcc0c7a08879",
       "version_major": 2,
       "version_minor": 0
      },
      "text/plain": [
       "Output()"
      ]
     },
     "metadata": {},
     "output_type": "display_data"
    }
   ],
   "source": [
    "#Setup all the matplotlib stuff\n",
    "output = widgets.Output()\n",
    "with output:\n",
    "    fig = plt.figure(figsize=(8,6))\n",
    "    ax = fig.add_subplot(111, projection='3d')\n",
    "    ax2 = fig.add_axes([.7, .1, .2, .2])\n",
    "\n",
    "def fun(**kw):\n",
    "    calc_observation(e3d_sched, ax, ax2, **kw)\n",
    "\n",
    "grid = widgets.GridspecLayout(8,2)\n",
    "\n",
    "#grid[8,:] = output\n",
    "\n",
    "app = widgets.AppLayout(\n",
    "    header=None,\n",
    "    left_sidebar=None,\n",
    "    center=output,\n",
    "    right_sidebar=grid,\n",
    "    footer=None,\n",
    "    height=\"600px\", \n",
    "    width=\"100%\",\n",
    ")\n",
    "\n",
    "#get the prepared widgets limits\n",
    "lims = get_widget_limits(pop, END_T)\n",
    "\n",
    "###\n",
    "# CREATE ALL THE SLIDERS AND UI.... AAAAAARGH!\n",
    "###\n",
    "t = widgets.FloatSlider(min=lims['t'][0], max=lims['t'][1], step=lims['t'][2], description='Time [s]'); grid[1,-2] = t\n",
    "t_cnt = widgets.FloatText(min=lims['t'][0], max=lims['t'][1], step=lims['t'][2], description='Time [s]'); grid[0,-1] = t_cnt\n",
    "t_span = widgets.FloatSlider(min=lims['t_span'][0], max=lims['t_span'][1], step=lims['t_span'][2], description='Time span [s]'); grid[2,-2] = t_span\n",
    "view_range = widgets.FloatSlider(min=lims['view_range'][0], max=lims['view_range'][1], step=lims['view_range'][2], description='Zoom [km]'); grid[1,-1] = view_range\n",
    "d_min = widgets.FloatSlider(min=lims['d_min'][0], max=lims['d_min'][1], step=lims['d_min'][2], value=5.0, description='Min diameter [m]'); grid[2,-1] = d_min\n",
    "L = widgets.FloatSlider(min=lims['L'][0], max=lims['L'][1], step=lims['L'][2], description='Side-length [km]'); grid[3,-2] = L\n",
    "N = widgets.IntSlider(min=lims['N'][0], max=lims['N'][1], step=lims['N'][2], description='Samples/side [1]'); grid[3,-1] = N\n",
    "dwell = widgets.FloatSlider(min=lims['dwell'][0], max=lims['dwell'][1], step=lims['dwell'][2], description='Dwell [s]'); grid[4,-2] = dwell\n",
    "h = widgets.FloatSlider(min=lims['h'][0], max=lims['h'][1], step=lims['h'][2], description='Altitude [km]'); grid[4,-1] = h\n",
    "h_min = widgets.FloatSlider(min=lims['h_min'][0], max=lims['h_min'][1], step=lims['h_min'][2], description='Min altitude [km]'); grid[5,-2] = h_min\n",
    "beams = widgets.IntSlider(min=lims['beams'][0], max=lims['beams'][1], step=lims['beams'][2], description='Rx-beams [1]'); grid[5,-1] = beams\n",
    "plot_rx = widgets.ToggleButton(value=True, description='Plot rx beams'); grid[6,-2] = plot_rx\n",
    "include_objects = widgets.ToggleButton(value=False, description='Plot objects'); grid[6,-1] = include_objects\n",
    "sim_snr = widgets.ToggleButton(value=False, description='Simulate observation'); grid[7,-2] = sim_snr\n",
    "recalc = widgets.Button(description='Run Observation simulation', button_style=''); grid[7,-1] = recalc\n",
    "track = widgets.Dropdown(\n",
    "    options=['None'] + e3d_sched.inds,\n",
    "    value = 1268,\n",
    "    description='Track object:',\n",
    ")\n",
    "grid[0,-2:] = track\n",
    "\n",
    "\n",
    "#Relations\n",
    "def h_on_value_change(change):\n",
    "    new_h = change['new']\n",
    "    h_min.max = new_h\n",
    "h.observe(h_on_value_change, names='value')\n",
    "\n",
    "def on_button_clicked(b):\n",
    "    recalc_track_data()\n",
    "recalc.on_click(on_button_clicked)\n",
    "\n",
    "tlink = widgets.jslink((t, 'value'), (t_cnt, 'value'))\n",
    "\n",
    "#Cache interactive to start with\n",
    "out = widgets.interactive_output(\n",
    "    fun, \n",
    "    dict(\n",
    "        t = t,\n",
    "        t_span = t_span,\n",
    "        d_min = d_min,\n",
    "        L = L,\n",
    "        N = N,\n",
    "        dwell = dwell,\n",
    "        h = h,\n",
    "        h_min = h_min,\n",
    "        beams = beams,\n",
    "        plot_rx = plot_rx,\n",
    "        include_objects = include_objects,\n",
    "        view_range = view_range,\n",
    "        track_ind = track,\n",
    "        track_snr = sim_snr,\n",
    "    ),\n",
    ")\n",
    "\n",
    "#Display control\n",
    "display(app, out)"
   ]
  },
  {
   "cell_type": "markdown",
   "metadata": {},
   "source": [
    "\n",
    "# Discussion\n",
    "\n",
    "## Questions\n",
    "\n",
    "* Thoughts about scheduling for your own future experiments? <span style=\"color:#ff2222\">Lets discuss!</span>\n",
    "* Does this framework seem useful to your research? how? <span style=\"color:#ff2222\">Poke me!</span>\n",
    "* Could it be useful with modification/additions? what modifications? <span style=\"color:#ff2222\">Open an issue on Github!</span>"
   ]
  },
  {
   "cell_type": "code",
   "execution_count": null,
   "metadata": {},
   "outputs": [],
   "source": []
  }
 ],
 "metadata": {
  "kernelspec": {
   "display_name": "Python 3",
   "language": "python",
   "name": "python3"
  },
  "language_info": {
   "codemirror_mode": {
    "name": "ipython",
    "version": 3
   },
   "file_extension": ".py",
   "mimetype": "text/x-python",
   "name": "python",
   "nbconvert_exporter": "python",
   "pygments_lexer": "ipython3",
   "version": "3.7.0"
  }
 },
 "nbformat": 4,
 "nbformat_minor": 4
}
