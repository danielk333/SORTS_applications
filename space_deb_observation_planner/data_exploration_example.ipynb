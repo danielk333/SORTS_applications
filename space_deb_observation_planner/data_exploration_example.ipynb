{
 "cells": [
  {
   "cell_type": "code",
   "execution_count": 1,
   "id": "cf3dc074",
   "metadata": {},
   "outputs": [],
   "source": [
    "import pickle\n",
    "import pathlib\n",
    "\n",
    "import sorts\n",
    "import numpy as np\n",
    "import matplotlib.pyplot as plt\n",
    "from astropy.time import Time, TimeDelta\n",
    "%matplotlib inline"
   ]
  },
  {
   "cell_type": "code",
   "execution_count": 2,
   "id": "6a8a48c4",
   "metadata": {},
   "outputs": [],
   "source": [
    "fname = pathlib.Path('.cache') / 'test' / 'fragment_pass_data.pickle'\n",
    "with open(fname, 'rb') as fh:\n",
    "    data = pickle.load(fh)"
   ]
  },
  {
   "cell_type": "code",
   "execution_count": 10,
   "id": "194d933e",
   "metadata": {},
   "outputs": [
    {
     "data": {
      "text/plain": [
       "Text(0, 0.5, 'Max SNR [dB]')"
      ]
     },
     "execution_count": 10,
     "metadata": {},
     "output_type": "execute_result"
    },
    {
     "data": {
      "image/png": "[encoded data removed]",
      "text/plain": [
       "<Figure size 864x432 with 3 Axes>"
      ]
     },
     "metadata": {
      "needs_background": "light"
     },
     "output_type": "display_data"
    }
   ],
   "source": [
    "sn = np.array(data[0][0]['peak_snr'])\n",
    "t = np.array(data[0][0]['peak_time'])\n",
    "\n",
    "fig, axes = plt.subplots(1,3, figsize=(12,6))\n",
    "ax = axes[0]\n",
    "ax.hist(10*np.log10(sn[sn > 1]))\n",
    "ax.set_xlabel('Max SNR [dB]')\n",
    "ax.set_ylabel('Passes')\n",
    "\n",
    "ax = axes[1]\n",
    "ax.hist(t[sn > 1]/3600.0)\n",
    "ax.set_xlabel('Time past epoch [h]')\n",
    "ax.set_ylabel('Passes')\n",
    "\n",
    "ax = axes[2]\n",
    "ax.plot(t[sn > 1]/3600.0, 10*np.log10(sn[sn > 1]), '.b')\n",
    "ax.set_xlabel('Time past epoch [h]')\n",
    "ax.set_ylabel('Max SNR [dB]')"
   ]
  },
  {
   "cell_type": "code",
   "execution_count": 4,
   "id": "8b510541",
   "metadata": {},
   "outputs": [],
   "source": [
    "fname = pathlib.Path('.cache') / 'test' / 'orbit_data.pickle'\n",
    "with open(fname, 'rb') as fh:\n",
    "    orbit_data = pickle.load(fh)"
   ]
  },
  {
   "cell_type": "code",
   "execution_count": 5,
   "id": "94c5f811",
   "metadata": {},
   "outputs": [],
   "source": [
    "sn = []\n",
    "t = []\n",
    "for oid in range(len(orbit_data)):\n",
    "    for ind, d in enumerate(orbit_data[oid][0][0]):\n",
    "        snm = np.argmax(d['snr'])\n",
    "        sn.append(d['snr'][snm])\n",
    "        t.append(d['t'][snm])\n",
    "t = np.array(t)\n",
    "sn = np.array(t)\n",
    "\n",
    "t_sort = np.argsort(t)\n",
    "t = t[t_sort]\n",
    "sn = sn[t_sort]"
   ]
  },
  {
   "cell_type": "code",
   "execution_count": 6,
   "id": "5de55f2e",
   "metadata": {},
   "outputs": [
    {
     "data": {
      "text/plain": [
       "Text(0.5, 0, 'Time past epoch [h]')"
      ]
     },
     "execution_count": 6,
     "metadata": {},
     "output_type": "execute_result"
    },
    {
     "data": {
      "image/png": "[encoded data removed]",
      "text/plain": [
       "<Figure size 432x288 with 1 Axes>"
      ]
     },
     "metadata": {
      "needs_background": "light"
     },
     "output_type": "display_data"
    }
   ],
   "source": [
    "fig, ax = plt.subplots()\n",
    "ax.plot(t/3600.0, 10*np.log10(sn), '.b')\n",
    "ax.set_ylabel('Orbit SNR [dB]')\n",
    "ax.set_xlabel('Time past epoch [h]')"
   ]
  },
  {
   "cell_type": "code",
   "execution_count": null,
   "id": "a1606078",
   "metadata": {},
   "outputs": [],
   "source": []
  }
 ],
 "metadata": {
  "kernelspec": {
   "display_name": "Python 3 (ipykernel)",
   "language": "python",
   "name": "python3"
  },
  "language_info": {
   "codemirror_mode": {
    "name": "ipython",
    "version": 3
   },
   "file_extension": ".py",
   "mimetype": "text/x-python",
   "name": "python",
   "nbconvert_exporter": "python",
   "pygments_lexer": "ipython3",
   "version": "3.9.7"
  }
 },
 "nbformat": 4,
 "nbformat_minor": 5
}
